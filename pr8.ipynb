{
 "cells": [
  {
   "cell_type": "code",
   "execution_count": 21,
   "id": "bca8a9cd",
   "metadata": {},
   "outputs": [],
   "source": [
    "import pandas as pd\n",
    "import numpy as np\n",
    "import matplotlib.pyplot as plt\n",
    "import seaborn as sns\n",
    "from sklearn.linear_model import LinearRegression\n",
    "from sklearn.preprocessing import StandardScaler,PolynomialFeatures\n",
    "from sklearn.model_selection import train_test_split\n",
    "from sklearn.metrics import mean_squared_error,r2_score"
   ]
  },
  {
   "cell_type": "code",
   "execution_count": 22,
   "id": "9236ac47",
   "metadata": {},
   "outputs": [
    {
     "data": {
      "text/html": [
       "<div>\n",
       "<style scoped>\n",
       "    .dataframe tbody tr th:only-of-type {\n",
       "        vertical-align: middle;\n",
       "    }\n",
       "\n",
       "    .dataframe tbody tr th {\n",
       "        vertical-align: top;\n",
       "    }\n",
       "\n",
       "    .dataframe thead th {\n",
       "        text-align: right;\n",
       "    }\n",
       "</style>\n",
       "<table border=\"1\" class=\"dataframe\">\n",
       "  <thead>\n",
       "    <tr style=\"text-align: right;\">\n",
       "      <th></th>\n",
       "      <th>Crime_rate</th>\n",
       "      <th>zn</th>\n",
       "      <th>indus</th>\n",
       "      <th>chas</th>\n",
       "      <th>nox</th>\n",
       "      <th>rm</th>\n",
       "      <th>Age</th>\n",
       "      <th>Distance</th>\n",
       "      <th>rad</th>\n",
       "      <th>tax</th>\n",
       "      <th>ptratio</th>\n",
       "      <th>b</th>\n",
       "      <th>lstat</th>\n",
       "      <th>medv</th>\n",
       "    </tr>\n",
       "  </thead>\n",
       "  <tbody>\n",
       "    <tr>\n",
       "      <th>0</th>\n",
       "      <td>0.00632</td>\n",
       "      <td>18.0</td>\n",
       "      <td>2.31</td>\n",
       "      <td>0</td>\n",
       "      <td>0.538</td>\n",
       "      <td>6.575</td>\n",
       "      <td>65.2</td>\n",
       "      <td>4.0900</td>\n",
       "      <td>1</td>\n",
       "      <td>296</td>\n",
       "      <td>15.3</td>\n",
       "      <td>396.90</td>\n",
       "      <td>4.98</td>\n",
       "      <td>24.0</td>\n",
       "    </tr>\n",
       "    <tr>\n",
       "      <th>1</th>\n",
       "      <td>0.02731</td>\n",
       "      <td>0.0</td>\n",
       "      <td>7.07</td>\n",
       "      <td>0</td>\n",
       "      <td>0.469</td>\n",
       "      <td>6.421</td>\n",
       "      <td>78.9</td>\n",
       "      <td>4.9671</td>\n",
       "      <td>2</td>\n",
       "      <td>242</td>\n",
       "      <td>17.8</td>\n",
       "      <td>396.90</td>\n",
       "      <td>9.14</td>\n",
       "      <td>21.6</td>\n",
       "    </tr>\n",
       "    <tr>\n",
       "      <th>2</th>\n",
       "      <td>0.02729</td>\n",
       "      <td>0.0</td>\n",
       "      <td>7.07</td>\n",
       "      <td>0</td>\n",
       "      <td>0.469</td>\n",
       "      <td>7.185</td>\n",
       "      <td>61.1</td>\n",
       "      <td>4.9671</td>\n",
       "      <td>2</td>\n",
       "      <td>242</td>\n",
       "      <td>17.8</td>\n",
       "      <td>392.83</td>\n",
       "      <td>4.03</td>\n",
       "      <td>34.7</td>\n",
       "    </tr>\n",
       "    <tr>\n",
       "      <th>3</th>\n",
       "      <td>0.03237</td>\n",
       "      <td>0.0</td>\n",
       "      <td>2.18</td>\n",
       "      <td>0</td>\n",
       "      <td>0.458</td>\n",
       "      <td>6.998</td>\n",
       "      <td>45.8</td>\n",
       "      <td>6.0622</td>\n",
       "      <td>3</td>\n",
       "      <td>222</td>\n",
       "      <td>18.7</td>\n",
       "      <td>394.63</td>\n",
       "      <td>2.94</td>\n",
       "      <td>33.4</td>\n",
       "    </tr>\n",
       "    <tr>\n",
       "      <th>4</th>\n",
       "      <td>0.06905</td>\n",
       "      <td>0.0</td>\n",
       "      <td>2.18</td>\n",
       "      <td>0</td>\n",
       "      <td>0.458</td>\n",
       "      <td>7.147</td>\n",
       "      <td>54.2</td>\n",
       "      <td>6.0622</td>\n",
       "      <td>3</td>\n",
       "      <td>222</td>\n",
       "      <td>18.7</td>\n",
       "      <td>396.90</td>\n",
       "      <td>5.33</td>\n",
       "      <td>36.2</td>\n",
       "    </tr>\n",
       "  </tbody>\n",
       "</table>\n",
       "</div>"
      ],
      "text/plain": [
       "   Crime_rate    zn  indus  chas    nox  ...  tax  ptratio       b  lstat  medv\n",
       "0     0.00632  18.0   2.31     0  0.538  ...  296     15.3  396.90   4.98  24.0\n",
       "1     0.02731   0.0   7.07     0  0.469  ...  242     17.8  396.90   9.14  21.6\n",
       "2     0.02729   0.0   7.07     0  0.469  ...  242     17.8  392.83   4.03  34.7\n",
       "3     0.03237   0.0   2.18     0  0.458  ...  222     18.7  394.63   2.94  33.4\n",
       "4     0.06905   0.0   2.18     0  0.458  ...  222     18.7  396.90   5.33  36.2\n",
       "\n",
       "[5 rows x 14 columns]"
      ]
     },
     "execution_count": 22,
     "metadata": {},
     "output_type": "execute_result"
    }
   ],
   "source": [
    "data=pd.read_csv('BostonHousing.csv')\n",
    "data.head()"
   ]
  },
  {
   "cell_type": "code",
   "execution_count": 23,
   "id": "f41ef5d0",
   "metadata": {},
   "outputs": [],
   "source": [
    "data.fillna(data.mean(),inplace=True)"
   ]
  },
  {
   "cell_type": "code",
   "execution_count": 24,
   "id": "2bd5bb25",
   "metadata": {},
   "outputs": [],
   "source": [
    "data=data[data['lstat']<30]\n",
    "data=data[data['rm']>4]"
   ]
  },
  {
   "cell_type": "markdown",
   "id": "662db1d8",
   "metadata": {},
   "source": [
    "✅ data.corr()\n",
    "This computes the correlation matrix between all numeric columns.\n",
    "\n",
    "For example: how each feature correlates with every other, especially with medv (target variable).\n",
    "\n",
    "✅ .abs()\n",
    "Takes the absolute value of the correlation.\n",
    "\n",
    "This means both positive and negative correlations are treated equally strong (e.g., +0.9 and -0.9 are both 0.9).\n",
    "\n",
    "✅ ['medv']\n",
    "This selects only the correlations of all features with the target medv (Median value of owner-occupied homes).\n",
    "\n",
    "✅ .sort_values(ascending=False)\n",
    "Sorts the correlations from strongest to weakest.\n",
    "\n",
    "Highest correlation appears first.\n",
    "\n",
    "✅ [1:4]\n",
    "Skips the first one ([0]) because it’s the correlation of medv with itself (which is always 1).\n",
    "\n",
    "Selects the next 3 top features most correlated with medv.\n",
    "\n",
    "✅ .index.tolist()\n",
    "Gets just the column names (i.e., feature names) as a list."
   ]
  },
  {
   "cell_type": "code",
   "execution_count": 27,
   "id": "ff0dbca3",
   "metadata": {},
   "outputs": [
    {
     "name": "stdout",
     "output_type": "stream",
     "text": [
      "     lstat     rm  ptratio\n",
      "0     4.98  6.575     15.3\n",
      "1     9.14  6.421     17.8\n",
      "2     4.03  7.185     17.8\n",
      "3     2.94  6.998     18.7\n",
      "4     5.33  7.147     18.7\n",
      "..     ...    ...      ...\n",
      "501   9.67  6.593     21.0\n",
      "502   9.08  6.120     21.0\n",
      "503   5.64  6.976     21.0\n",
      "504   6.48  6.794     21.0\n",
      "505   7.88  6.030     21.0\n",
      "\n",
      "[492 rows x 3 columns]\n"
     ]
    }
   ],
   "source": [
    "top_features=data.corr().abs()['medv'].sort_values(ascending=False)[1:4].index.tolist()\n",
    "print(data[top_features])\n",
    "X=data[top_features]\n",
    "y=data['medv']"
   ]
  },
  {
   "cell_type": "markdown",
   "id": "18e589d5",
   "metadata": {},
   "source": [
    "Every time you run the code, you might get a different split — different train/test sets → different results.\n",
    "\n",
    "With random_state=42:\n",
    "\n",
    "python\n",
    "Copy\n",
    "Edit\n",
    "X_train, X_test, y_train, y_test = train_test_split(X, y, test_size=0.2, random_state=42)\n",
    "Same train/test split every time, so your results (MSE, R², graphs) are consistent.\n",
    "\n",
    "No technical reason.\n",
    "\n",
    "42 became popular because of the book \"The Hitchhiker’s Guide to the Galaxy\" where 42 is \"the answer to life, the universe, and everything.\"\n",
    "\n",
    "So, it's a fun geek joke in machine learning too!"
   ]
  },
  {
   "cell_type": "code",
   "execution_count": 28,
   "id": "89da57d1",
   "metadata": {},
   "outputs": [],
   "source": [
    "X_train,X_test,y_train,y_test=train_test_split(X,y,test_size=0.2,random_state=42)"
   ]
  },
  {
   "cell_type": "code",
   "execution_count": 32,
   "id": "d321fedc",
   "metadata": {},
   "outputs": [],
   "source": [
    "scaler=StandardScaler()\n",
    "X_train_scaled=scaler.fit_transform(X_train)\n",
    "X_test_scaled=scaler.transform(X_test)"
   ]
  },
  {
   "cell_type": "code",
   "execution_count": 34,
   "id": "e5afa0d7",
   "metadata": {},
   "outputs": [],
   "source": [
    "poly=PolynomialFeatures(degree=2)\n",
    "X_train_poly=poly.fit_transform(X_train_scaled)\n",
    "X_test_poly=poly.transform(X_test_scaled)\n"
   ]
  },
  {
   "cell_type": "code",
   "execution_count": 35,
   "id": "a33526b8",
   "metadata": {},
   "outputs": [],
   "source": [
    "model=LinearRegression()\n",
    "model.fit(X_train_poly,y_train)\n",
    "y_pred=model.predict(X_test_poly)"
   ]
  },
  {
   "cell_type": "markdown",
   "id": "e54c8df0",
   "metadata": {},
   "source": [
    "MSE Value\tMeaning\n",
    "< 10\tVery good fit (excellent model)\n",
    "10 - 20\tGood model, acceptable errors"
   ]
  },
  {
   "cell_type": "code",
   "execution_count": 37,
   "id": "72763ec6",
   "metadata": {},
   "outputs": [
    {
     "name": "stdout",
     "output_type": "stream",
     "text": [
      "MSE : 14.15\n",
      "R2 : 0.8154\n"
     ]
    }
   ],
   "source": [
    "mse=mean_squared_error(y_test,y_pred)\n",
    "r2=r2_score(y_test,y_pred)\n",
    "\n",
    "print(f\"MSE : {mse:.2f}\")\n",
    "print(f\"R2 : {r2:.4f}\")"
   ]
  },
  {
   "cell_type": "code",
   "execution_count": 38,
   "id": "6315c8c8",
   "metadata": {},
   "outputs": [
    {
     "data": {
      "image/png": "[encoded data removed]",
      "text/plain": [
       "<Figure size 640x480 with 1 Axes>"
      ]
     },
     "metadata": {},
     "output_type": "display_data"
    }
   ],
   "source": [
    "plt.scatter(y_test,y_pred,color='blue')\n",
    "plt.plot([min(y_test),max(y_test)],[min(y_test),max(y_test)],color='red')\n",
    "plt.xlabel(\"Actual MEDV\")\n",
    "plt.ylabel(\"Predicated MEDV\")\n",
    "plt.title(\"Actual vs Predicted Prices\")\n",
    "plt.show()"
   ]
  }
 ],
 "metadata": {
  "kernelspec": {
   "display_name": "Python 3",
   "language": "python",
   "name": "python3"
  },
  "language_info": {
   "codemirror_mode": {
    "name": "ipython",
    "version": 3
   },
   "file_extension": ".py",
   "mimetype": "text/x-python",
   "name": "python",
   "nbconvert_exporter": "python",
   "pygments_lexer": "ipython3",
   "version": "3.12.0"
  }
 },
 "nbformat": 4,
 "nbformat_minor": 5
}
