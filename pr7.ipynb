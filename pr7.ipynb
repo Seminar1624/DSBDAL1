{
 "cells": [
  {
   "cell_type": "code",
   "execution_count": 21,
   "id": "58efa149",
   "metadata": {},
   "outputs": [
    {
     "name": "stdout",
     "output_type": "stream",
     "text": [
      "Requirement already satisfied: nltk in c:\\users\\asus\\appdata\\local\\programs\\python\\python312\\lib\\site-packages (3.9.1)\n",
      "Requirement already satisfied: click in c:\\users\\asus\\appdata\\local\\programs\\python\\python312\\lib\\site-packages (from nltk) (8.1.7)\n",
      "Requirement already satisfied: joblib in c:\\users\\asus\\appdata\\local\\programs\\python\\python312\\lib\\site-packages (from nltk) (1.4.2)\n",
      "Requirement already satisfied: regex>=2021.8.3 in c:\\users\\asus\\appdata\\local\\programs\\python\\python312\\lib\\site-packages (from nltk) (2024.11.6)\n",
      "Requirement already satisfied: tqdm in c:\\users\\asus\\appdata\\local\\programs\\python\\python312\\lib\\site-packages (from nltk) (4.67.1)\n",
      "Requirement already satisfied: colorama in c:\\users\\asus\\appdata\\local\\programs\\python\\python312\\lib\\site-packages (from click->nltk) (0.4.6)\n"
     ]
    }
   ],
   "source": [
    "!pip install nltk"
   ]
  },
  {
   "cell_type": "code",
   "execution_count": 22,
   "id": "28ce72d2",
   "metadata": {},
   "outputs": [
    {
     "name": "stderr",
     "output_type": "stream",
     "text": [
      "[nltk_data] Downloading package punkt_tab to\n",
      "[nltk_data]     C:\\Users\\Asus\\AppData\\Roaming\\nltk_data...\n",
      "[nltk_data]   Package punkt_tab is already up-to-date!\n"
     ]
    },
    {
     "data": {
      "text/plain": [
       "True"
      ]
     },
     "execution_count": 22,
     "metadata": {},
     "output_type": "execute_result"
    }
   ],
   "source": [
    "import nltk\n",
    "from nltk.tokenize import word_tokenize,sent_tokenize\n",
    "\n",
    "nltk.download('punkt_tab')"
   ]
  },
  {
   "cell_type": "code",
   "execution_count": 23,
   "id": "c47e2c24",
   "metadata": {},
   "outputs": [],
   "source": [
    "with open(\"data1.txt\",\"r\",encoding=\"utf-8\") as file:\n",
    "    text=file.read()"
   ]
  },
  {
   "cell_type": "code",
   "execution_count": 24,
   "id": "f5f136fc",
   "metadata": {},
   "outputs": [
    {
     "name": "stdout",
     "output_type": "stream",
     "text": [
      "['The', 'Department', 'of', 'Computer', 'Engineering', 'was', 'established', 'in', '1983', 'with', 'the', 'intent', 'to', 'provide', 'quality', 'education', 'to', 'the', 'young', 'aspirants', '.', 'The', 'department', 'is', 'pioneer', 'in', 'providing', 'education', 'in', 'Computer', 'Engineering', 'among', 'self', 'financed', 'institutes', 'in', 'Maharashtra', '.', 'A', 'team', 'of', '52', 'teaching', 'and', '10', 'technical', 'staff', 'members', 'under', 'the', 'leadership', 'of', 'Dr.', 'Geetanjali', 'V.', 'Kale', 'unanimously', 'harnesses', 'its', 'potential', 'in', 'all', 'aspects', 'to', 'take', 'the', 'department', 'to', 'greater', 'heights', '.', 'The', 'department', 'had', 'intake', 'of', '60', 'in', '1983', 'and', 'now', 'the', 'current', 'intake', 'for', 'the', 'undergraduate', 'program', 'is', '240', '.', 'The', 'department', 'has', 'received', 'approval', 'from', 'AICTE', 'to', 'conduct', 'UG', 'program', 'for', 'working', 'professionals', 'with', '60', 'intake', 'from', 'A.Y', '.', '2024-25', '.', 'The', 'Postgraduate', '(', 'PG', ')', 'program', 'in', 'Computer', 'Engineering', 'was', 'started', 'in', '2000', 'with', 'a', 'student', 'intake', 'of', '25', 'and', 'PG', 'in', 'Data', 'Science', 'with', 'an', 'intake', 'of', '24', 'from', '2020', '.', 'Subsequently', 'in', '2013', ',', 'intake', 'is', 'increased', 'to', '49', 'with', 'addition', 'of', 'second', 'division', 'of', '24', 'students', '.', 'In', '2020', ',', 'the', 'second', 'division', 'of', '24', 'students', 'is', 'converted', 'into', 'PG', 'in', 'Data', 'Science', '.', 'From', 'A.Y', '.', '2022-23', ',', 'both', 'Data', 'Science', 'and', 'Computer', 'Engineering', 'PG', 'programs', 'has', 'intake', 'of', '12', 'students', 'each', '.', 'The', 'department', 'has', 'a', 'Ph.D.', 'research', 'centre', ',', 'since', '2012', '.', 'All', 'the', 'UG', ',', 'PG', 'and', 'Ph.D.', 'programs', 'are', 'affiliated', 'to', 'Savitribai', 'Phule', 'Pune', 'University', '(', 'SPPU', ')', '.Students', 'are', 'regularly', 'placed', 'in', 'top', 'MNCs', 'with', 'an', 'average', 'package', 'of', '13.5', 'LPA', '.', 'Our', 'students', 'are', 'pursuing', 'higher', 'education', 'in', 'top', 'universities', '(', 'Indian', 'as', 'well', 'as', 'Foreign', ')', '.', 'The', 'department', 'encourages', 'students', 'to', 'participate', 'in', 'various', 'National', 'and', 'International', 'level', 'competitions', ',', 'project', 'exhibitions', ',', 'hackathons', ',', 'sports', 'events', 'and', 'extra-curricular', 'activities', '.', 'Students', 'have', 'won', 'awards', 'in', 'various', 'competitions', 'including', 'significant', 'achievements', 'in', 'Smart', 'India', 'Hackathon', '.', 'Department', 'is', 'also', 'assisting', 'students', 'in', 'getting', 'internships', 'at', 'niche', 'companies', 'with', 'pre-placement', 'offers', '.']\n"
     ]
    }
   ],
   "source": [
    "# word tokenize\n",
    "words=nltk.word_tokenize(text)\n",
    "print(words)"
   ]
  },
  {
   "cell_type": "code",
   "execution_count": 25,
   "id": "cbb43383",
   "metadata": {},
   "outputs": [
    {
     "name": "stdout",
     "output_type": "stream",
     "text": [
      "['The Department of Computer Engineering was established in 1983 with the intent to provide quality education to the young aspirants.', 'The department is pioneer in providing education in Computer Engineering among self financed institutes in Maharashtra.', 'A team of 52 teaching and 10 technical staff members under the leadership of Dr. Geetanjali V. Kale unanimously harnesses its potential in all aspects to take the department to greater heights.', 'The department had intake of 60 in 1983 and now the current intake for the undergraduate program is 240.', 'The department has received approval from AICTE to conduct UG program for working professionals with 60 intake from A.Y.', '2024-25.', 'The Postgraduate (PG) program in Computer Engineering was started in 2000 with a student intake of 25 and PG in Data Science with an intake of 24 from 2020.', 'Subsequently in 2013, intake is increased to 49 with addition of second division of 24 students.', 'In 2020, the second division of 24 students is converted into PG in Data Science.', 'From A.Y.', '2022-23, both Data Science and Computer Engineering PG programs has intake of 12 students each.', 'The department has a Ph.D. research centre, since 2012.', 'All the UG, PG and Ph.D. programs are affiliated to Savitribai Phule Pune University (SPPU).Students are regularly placed in top MNCs with an average package of 13.5 LPA.', 'Our students are pursuing higher education in top universities (Indian as well as Foreign).', 'The department encourages students to participate in various National and International level competitions, project exhibitions, hackathons, sports events and extra-curricular activities.', 'Students have won awards in various competitions including significant achievements in Smart India Hackathon.', 'Department is also assisting students in getting internships at niche companies with pre-placement offers.']\n"
     ]
    }
   ],
   "source": [
    "# sentance tokenize\n",
    "sentences=sent_tokenize(text=text)\n",
    "print(sentences)"
   ]
  },
  {
   "cell_type": "code",
   "execution_count": 26,
   "id": "d3c234ff",
   "metadata": {},
   "outputs": [
    {
     "name": "stdout",
     "output_type": "stream",
     "text": [
      "['The', 'Department', 'of', 'Computer', 'Engineering', 'was', 'established', 'in', '1983', 'with', 'the', 'intent', 'to', 'provide', 'quality', 'education', 'to', 'the', 'young', 'aspirants', 'The', 'department', 'is', 'pioneer', 'in', 'providing', 'education', 'in', 'Computer', 'Engineering', 'among', 'self', 'financed', 'institutes', 'in', 'Maharashtra', 'A', 'team', 'of', '52', 'teaching', 'and', '10', 'technical', 'staff', 'members', 'under', 'the', 'leadership', 'of', 'Dr.', 'Geetanjali', 'V.', 'Kale', 'unanimously', 'harnesses', 'its', 'potential', 'in', 'all', 'aspects', 'to', 'take', 'the', 'department', 'to', 'greater', 'heights', 'The', 'department', 'had', 'intake', 'of', '60', 'in', '1983', 'and', 'now', 'the', 'current', 'intake', 'for', 'the', 'undergraduate', 'program', 'is', '240', 'The', 'department', 'has', 'received', 'approval', 'from', 'AICTE', 'to', 'conduct', 'UG', 'program', 'for', 'working', 'professionals', 'with', '60', 'intake', 'from', 'A.Y', '2024-25', 'The', 'Postgraduate', 'PG', 'program', 'in', 'Computer', 'Engineering', 'was', 'started', 'in', '2000', 'with', 'a', 'student', 'intake', 'of', '25', 'and', 'PG', 'in', 'Data', 'Science', 'with', 'an', 'intake', 'of', '24', 'from', '2020', 'Subsequently', 'in', '2013', 'intake', 'is', 'increased', 'to', '49', 'with', 'addition', 'of', 'second', 'division', 'of', '24', 'students', 'In', '2020', 'the', 'second', 'division', 'of', '24', 'students', 'is', 'converted', 'into', 'PG', 'in', 'Data', 'Science', 'From', 'A.Y', '2022-23', 'both', 'Data', 'Science', 'and', 'Computer', 'Engineering', 'PG', 'programs', 'has', 'intake', 'of', '12', 'students', 'each', 'The', 'department', 'has', 'a', 'Ph.D.', 'research', 'centre', 'since', '2012', 'All', 'the', 'UG', 'PG', 'and', 'Ph.D.', 'programs', 'are', 'affiliated', 'to', 'Savitribai', 'Phule', 'Pune', 'University', 'SPPU', '.Students', 'are', 'regularly', 'placed', 'in', 'top', 'MNCs', 'with', 'an', 'average', 'package', 'of', '13.5', 'LPA', 'Our', 'students', 'are', 'pursuing', 'higher', 'education', 'in', 'top', 'universities', 'Indian', 'as', 'well', 'as', 'Foreign', 'The', 'department', 'encourages', 'students', 'to', 'participate', 'in', 'various', 'National', 'and', 'International', 'level', 'competitions', 'project', 'exhibitions', 'hackathons', 'sports', 'events', 'and', 'extra-curricular', 'activities', 'Students', 'have', 'won', 'awards', 'in', 'various', 'competitions', 'including', 'significant', 'achievements', 'in', 'Smart', 'India', 'Hackathon', 'Department', 'is', 'also', 'assisting', 'students', 'in', 'getting', 'internships', 'at', 'niche', 'companies', 'with', 'pre-placement', 'offers']\n"
     ]
    }
   ],
   "source": [
    "# remove punctuations\n",
    "import string\n",
    "tokens_new=[word for word in words if word not in string.punctuation]\n",
    "print(tokens_new)"
   ]
  },
  {
   "cell_type": "code",
   "execution_count": 27,
   "id": "9d069a7d",
   "metadata": {},
   "outputs": [
    {
     "name": "stdout",
     "output_type": "stream",
     "text": [
      "[('The', 'DT'), ('Department', 'NNP'), ('of', 'IN'), ('Computer', 'NNP'), ('Engineering', 'NNP'), ('was', 'VBD'), ('established', 'VBN'), ('in', 'IN'), ('1983', 'CD'), ('with', 'IN'), ('the', 'DT'), ('intent', 'NN'), ('to', 'TO'), ('provide', 'VB'), ('quality', 'NN'), ('education', 'NN'), ('to', 'TO'), ('the', 'DT'), ('young', 'JJ'), ('aspirants', 'NNS'), ('.', '.'), ('The', 'DT'), ('department', 'NN'), ('is', 'VBZ'), ('pioneer', 'VBN'), ('in', 'IN'), ('providing', 'VBG'), ('education', 'NN'), ('in', 'IN'), ('Computer', 'NNP'), ('Engineering', 'NNP'), ('among', 'IN'), ('self', 'NN'), ('financed', 'VBN'), ('institutes', 'NNS'), ('in', 'IN'), ('Maharashtra', 'NNP'), ('.', '.'), ('A', 'DT'), ('team', 'NN'), ('of', 'IN'), ('52', 'CD'), ('teaching', 'NN'), ('and', 'CC'), ('10', 'CD'), ('technical', 'JJ'), ('staff', 'NN'), ('members', 'NNS'), ('under', 'IN'), ('the', 'DT'), ('leadership', 'NN'), ('of', 'IN'), ('Dr.', 'NNP'), ('Geetanjali', 'NNP'), ('V.', 'NNP'), ('Kale', 'NNP'), ('unanimously', 'RB'), ('harnesses', 'VBZ'), ('its', 'PRP$'), ('potential', 'JJ'), ('in', 'IN'), ('all', 'DT'), ('aspects', 'NNS'), ('to', 'TO'), ('take', 'VB'), ('the', 'DT'), ('department', 'NN'), ('to', 'TO'), ('greater', 'JJR'), ('heights', 'NNS'), ('.', '.'), ('The', 'DT'), ('department', 'NN'), ('had', 'VBD'), ('intake', 'NN'), ('of', 'IN'), ('60', 'CD'), ('in', 'IN'), ('1983', 'CD'), ('and', 'CC'), ('now', 'RB'), ('the', 'DT'), ('current', 'JJ'), ('intake', 'NN'), ('for', 'IN'), ('the', 'DT'), ('undergraduate', 'JJ'), ('program', 'NN'), ('is', 'VBZ'), ('240', 'CD'), ('.', '.'), ('The', 'DT'), ('department', 'NN'), ('has', 'VBZ'), ('received', 'VBN'), ('approval', 'NN'), ('from', 'IN'), ('AICTE', 'NNP'), ('to', 'TO'), ('conduct', 'VB'), ('UG', 'NNP'), ('program', 'NN'), ('for', 'IN'), ('working', 'VBG'), ('professionals', 'NNS'), ('with', 'IN'), ('60', 'CD'), ('intake', 'NN'), ('from', 'IN'), ('A.Y', 'NNP'), ('.', '.'), ('2024-25', 'JJ'), ('.', '.'), ('The', 'DT'), ('Postgraduate', 'NNP'), ('(', '('), ('PG', 'NNP'), (')', ')'), ('program', 'NN'), ('in', 'IN'), ('Computer', 'NNP'), ('Engineering', 'NNP'), ('was', 'VBD'), ('started', 'VBN'), ('in', 'IN'), ('2000', 'CD'), ('with', 'IN'), ('a', 'DT'), ('student', 'NN'), ('intake', 'NN'), ('of', 'IN'), ('25', 'CD'), ('and', 'CC'), ('PG', 'NNP'), ('in', 'IN'), ('Data', 'NNP'), ('Science', 'NNP'), ('with', 'IN'), ('an', 'DT'), ('intake', 'NN'), ('of', 'IN'), ('24', 'CD'), ('from', 'IN'), ('2020', 'CD'), ('.', '.'), ('Subsequently', 'RB'), ('in', 'IN'), ('2013', 'CD'), (',', ','), ('intake', 'NN'), ('is', 'VBZ'), ('increased', 'VBN'), ('to', 'TO'), ('49', 'CD'), ('with', 'IN'), ('addition', 'NN'), ('of', 'IN'), ('second', 'JJ'), ('division', 'NN'), ('of', 'IN'), ('24', 'CD'), ('students', 'NNS'), ('.', '.'), ('In', 'IN'), ('2020', 'CD'), (',', ','), ('the', 'DT'), ('second', 'JJ'), ('division', 'NN'), ('of', 'IN'), ('24', 'CD'), ('students', 'NNS'), ('is', 'VBZ'), ('converted', 'VBN'), ('into', 'IN'), ('PG', 'NNP'), ('in', 'IN'), ('Data', 'NNP'), ('Science', 'NNP'), ('.', '.'), ('From', 'IN'), ('A.Y', 'NNP'), ('.', '.'), ('2022-23', 'CD'), (',', ','), ('both', 'DT'), ('Data', 'NNP'), ('Science', 'NN'), ('and', 'CC'), ('Computer', 'NNP'), ('Engineering', 'NNP'), ('PG', 'NNP'), ('programs', 'NNS'), ('has', 'VBZ'), ('intake', 'NN'), ('of', 'IN'), ('12', 'CD'), ('students', 'NNS'), ('each', 'DT'), ('.', '.'), ('The', 'DT'), ('department', 'NN'), ('has', 'VBZ'), ('a', 'DT'), ('Ph.D.', 'NNP'), ('research', 'NN'), ('centre', 'NN'), (',', ','), ('since', 'IN'), ('2012', 'CD'), ('.', '.'), ('All', 'PDT'), ('the', 'DT'), ('UG', 'NNP'), (',', ','), ('PG', 'NNP'), ('and', 'CC'), ('Ph.D.', 'NNP'), ('programs', 'NNS'), ('are', 'VBP'), ('affiliated', 'VBN'), ('to', 'TO'), ('Savitribai', 'NNP'), ('Phule', 'NNP'), ('Pune', 'NNP'), ('University', 'NNP'), ('(', '('), ('SPPU', 'NNP'), (')', ')'), ('.Students', 'NNS'), ('are', 'VBP'), ('regularly', 'RB'), ('placed', 'VBN'), ('in', 'IN'), ('top', 'JJ'), ('MNCs', 'NNP'), ('with', 'IN'), ('an', 'DT'), ('average', 'JJ'), ('package', 'NN'), ('of', 'IN'), ('13.5', 'CD'), ('LPA', 'NNP'), ('.', '.'), ('Our', 'PRP$'), ('students', 'NNS'), ('are', 'VBP'), ('pursuing', 'VBG'), ('higher', 'JJR'), ('education', 'NN'), ('in', 'IN'), ('top', 'JJ'), ('universities', 'NNS'), ('(', '('), ('Indian', 'JJ'), ('as', 'RB'), ('well', 'RB'), ('as', 'IN'), ('Foreign', 'NNP'), (')', ')'), ('.', '.'), ('The', 'DT'), ('department', 'NN'), ('encourages', 'VBZ'), ('students', 'NNS'), ('to', 'TO'), ('participate', 'VB'), ('in', 'IN'), ('various', 'JJ'), ('National', 'NNP'), ('and', 'CC'), ('International', 'NNP'), ('level', 'NN'), ('competitions', 'NNS'), (',', ','), ('project', 'NN'), ('exhibitions', 'NNS'), (',', ','), ('hackathons', 'NNS'), (',', ','), ('sports', 'NNS'), ('events', 'NNS'), ('and', 'CC'), ('extra-curricular', 'JJ'), ('activities', 'NNS'), ('.', '.'), ('Students', 'NNS'), ('have', 'VBP'), ('won', 'VBN'), ('awards', 'NNS'), ('in', 'IN'), ('various', 'JJ'), ('competitions', 'NNS'), ('including', 'VBG'), ('significant', 'JJ'), ('achievements', 'NNS'), ('in', 'IN'), ('Smart', 'NNP'), ('India', 'NNP'), ('Hackathon', 'NNP'), ('.', '.'), ('Department', 'NNP'), ('is', 'VBZ'), ('also', 'RB'), ('assisting', 'VBG'), ('students', 'NNS'), ('in', 'IN'), ('getting', 'VBG'), ('internships', 'NNS'), ('at', 'IN'), ('niche', 'NN'), ('companies', 'NNS'), ('with', 'IN'), ('pre-placement', 'JJ'), ('offers', 'NNS'), ('.', '.')]\n"
     ]
    },
    {
     "name": "stderr",
     "output_type": "stream",
     "text": [
      "[nltk_data] Downloading package averaged_perceptron_tagger_eng to\n",
      "[nltk_data]     C:\\Users\\Asus\\AppData\\Roaming\\nltk_data...\n",
      "[nltk_data]   Package averaged_perceptron_tagger_eng is already up-to-\n",
      "[nltk_data]       date!\n"
     ]
    }
   ],
   "source": [
    "# part of speech tagging\n",
    "nltk.download(\"averaged_perceptron_tagger_eng\")\n",
    "tags=nltk.pos_tag(words)\n",
    "print(tags)"
   ]
  },
  {
   "cell_type": "code",
   "execution_count": 28,
   "id": "08540772",
   "metadata": {},
   "outputs": [
    {
     "name": "stderr",
     "output_type": "stream",
     "text": [
      "[nltk_data] Downloading package stopwords to\n",
      "[nltk_data]     C:\\Users\\Asus\\AppData\\Roaming\\nltk_data...\n",
      "[nltk_data]   Package stopwords is already up-to-date!\n"
     ]
    },
    {
     "data": {
      "text/plain": [
       "True"
      ]
     },
     "execution_count": 28,
     "metadata": {},
     "output_type": "execute_result"
    }
   ],
   "source": [
    "from nltk.corpus import stopwords\n",
    "nltk.download('stopwords')"
   ]
  },
  {
   "cell_type": "code",
   "execution_count": 29,
   "id": "0f2bd781",
   "metadata": {},
   "outputs": [
    {
     "name": "stdout",
     "output_type": "stream",
     "text": [
      "['Department', 'Computer', 'Engineering', 'established', '1983', 'intent', 'provide', 'quality', 'education', 'young', 'aspirants', 'department', 'pioneer', 'providing', 'education', 'Computer', 'Engineering', 'among', 'self', 'financed', 'institutes', 'Maharashtra', 'team', '52', 'teaching', '10', 'technical', 'staff', 'members', 'leadership', 'Dr.', 'Geetanjali', 'V.', 'Kale', 'unanimously', 'harnesses', 'potential', 'aspects', 'take', 'department', 'greater', 'heights', 'department', 'intake', '60', '1983', 'current', 'intake', 'undergraduate', 'program', '240', 'department', 'received', 'approval', 'AICTE', 'conduct', 'UG', 'program', 'working', 'professionals', '60', 'intake', 'A.Y', '2024-25', 'Postgraduate', 'PG', 'program', 'Computer', 'Engineering', 'started', '2000', 'student', 'intake', '25', 'PG', 'Data', 'Science', 'intake', '24', '2020', 'Subsequently', '2013', 'intake', 'increased', '49', 'addition', 'second', 'division', '24', 'students', '2020', 'second', 'division', '24', 'students', 'converted', 'PG', 'Data', 'Science', 'A.Y', '2022-23', 'Data', 'Science', 'Computer', 'Engineering', 'PG', 'programs', 'intake', '12', 'students', 'department', 'Ph.D.', 'research', 'centre', 'since', '2012', 'UG', 'PG', 'Ph.D.', 'programs', 'affiliated', 'Savitribai', 'Phule', 'Pune', 'University', 'SPPU', '.Students', 'regularly', 'placed', 'top', 'MNCs', 'average', 'package', '13.5', 'LPA', 'students', 'pursuing', 'higher', 'education', 'top', 'universities', 'Indian', 'well', 'Foreign', 'department', 'encourages', 'students', 'participate', 'various', 'National', 'International', 'level', 'competitions', 'project', 'exhibitions', 'hackathons', 'sports', 'events', 'extra-curricular', 'activities', 'Students', 'awards', 'various', 'competitions', 'including', 'significant', 'achievements', 'Smart', 'India', 'Hackathon', 'Department', 'also', 'assisting', 'students', 'getting', 'internships', 'niche', 'companies', 'pre-placement', 'offers']\n"
     ]
    }
   ],
   "source": [
    "stop_words=set(stopwords.words(\"english\"))\n",
    "filtered_tokens=[word for word in tokens_new if word.lower() not in stop_words]\n",
    "\n",
    "print(filtered_tokens)\n"
   ]
  },
  {
   "cell_type": "code",
   "execution_count": 30,
   "id": "cddc48c9",
   "metadata": {},
   "outputs": [
    {
     "name": "stdout",
     "output_type": "stream",
     "text": [
      "['depart', 'comput', 'engin', 'establish', '1983', 'intent', 'provid', 'qualiti', 'educ', 'young', 'aspir', 'depart', 'pioneer', 'provid', 'educ', 'comput', 'engin', 'among', 'self', 'financ', 'institut', 'maharashtra', 'team', '52', 'teach', '10', 'technic', 'staff', 'member', 'leadership', 'dr.', 'geetanjali', 'v.', 'kale', 'unanim', 'har', 'potenti', 'aspect', 'take', 'depart', 'greater', 'height', 'depart', 'intak', '60', '1983', 'current', 'intak', 'undergradu', 'program', '240', 'depart', 'receiv', 'approv', 'aict', 'conduct', 'ug', 'program', 'work', 'profession', '60', 'intak', 'a.i', '2024-25', 'postgradu', 'pg', 'program', 'comput', 'engin', 'start', '2000', 'student', 'intak', '25', 'pg', 'data', 'scienc', 'intak', '24', '2020', 'subsequ', '2013', 'intak', 'increas', '49', 'addit', 'second', 'divis', '24', 'student', '2020', 'second', 'divis', '24', 'student', 'convert', 'pg', 'data', 'scienc', 'a.i', '2022-23', 'data', 'scienc', 'comput', 'engin', 'pg', 'program', 'intak', '12', 'student', 'depart', 'ph.d.', 'research', 'centr', 'sinc', '2012', 'ug', 'pg', 'ph.d.', 'program', 'affili', 'savitribai', 'phule', 'pune', 'univers', 'sppu', '.student', 'regularli', 'place', 'top', 'mnc', 'averag', 'packag', '13.5', 'lpa', 'student', 'pursu', 'higher', 'educ', 'top', 'univers', 'indian', 'well', 'foreign', 'depart', 'encourag', 'student', 'particip', 'variou', 'nation', 'intern', 'level', 'competit', 'project', 'exhibit', 'hackathon', 'sport', 'event', 'extra-curricular', 'activ', 'student', 'award', 'variou', 'competit', 'includ', 'signific', 'achiev', 'smart', 'india', 'hackathon', 'depart', 'also', 'assist', 'student', 'get', 'internship', 'nich', 'compani', 'pre-plac', 'offer']\n"
     ]
    }
   ],
   "source": [
    "# Stemming\n",
    "from nltk.stem import PorterStemmer\n",
    "\n",
    "ps=PorterStemmer()\n",
    "stemmed=[]\n",
    "for word in filtered_tokens:\n",
    "    stemmed.append(ps.stem(word))\n",
    "print(stemmed)    \n",
    "\n"
   ]
  },
  {
   "cell_type": "code",
   "execution_count": 31,
   "id": "263be5ef",
   "metadata": {},
   "outputs": [
    {
     "name": "stderr",
     "output_type": "stream",
     "text": [
      "[nltk_data] Downloading package wordnet to\n",
      "[nltk_data]     C:\\Users\\Asus\\AppData\\Roaming\\nltk_data...\n",
      "[nltk_data]   Package wordnet is already up-to-date!\n"
     ]
    },
    {
     "data": {
      "text/plain": [
       "True"
      ]
     },
     "execution_count": 31,
     "metadata": {},
     "output_type": "execute_result"
    }
   ],
   "source": [
    "# Lemmatization\n",
    "\n",
    "from nltk.stem import WordNetLemmatizer\n",
    "nltk.download('wordnet')"
   ]
  },
  {
   "cell_type": "code",
   "execution_count": 32,
   "id": "19920184",
   "metadata": {},
   "outputs": [
    {
     "name": "stdout",
     "output_type": "stream",
     "text": [
      "['Department', 'Computer', 'Engineering', 'established', '1983', 'intent', 'provide', 'quality', 'education', 'young', 'aspirant', 'department', 'pioneer', 'providing', 'education', 'Computer', 'Engineering', 'among', 'self', 'financed', 'institute', 'Maharashtra', 'team', '52', 'teaching', '10', 'technical', 'staff', 'member', 'leadership', 'Dr.', 'Geetanjali', 'V.', 'Kale', 'unanimously', 'harness', 'potential', 'aspect', 'take', 'department', 'greater', 'height', 'department', 'intake', '60', '1983', 'current', 'intake', 'undergraduate', 'program', '240', 'department', 'received', 'approval', 'AICTE', 'conduct', 'UG', 'program', 'working', 'professional', '60', 'intake', 'A.Y', '2024-25', 'Postgraduate', 'PG', 'program', 'Computer', 'Engineering', 'started', '2000', 'student', 'intake', '25', 'PG', 'Data', 'Science', 'intake', '24', '2020', 'Subsequently', '2013', 'intake', 'increased', '49', 'addition', 'second', 'division', '24', 'student', '2020', 'second', 'division', '24', 'student', 'converted', 'PG', 'Data', 'Science', 'A.Y', '2022-23', 'Data', 'Science', 'Computer', 'Engineering', 'PG', 'program', 'intake', '12', 'student', 'department', 'Ph.D.', 'research', 'centre', 'since', '2012', 'UG', 'PG', 'Ph.D.', 'program', 'affiliated', 'Savitribai', 'Phule', 'Pune', 'University', 'SPPU', '.Students', 'regularly', 'placed', 'top', 'MNCs', 'average', 'package', '13.5', 'LPA', 'student', 'pursuing', 'higher', 'education', 'top', 'university', 'Indian', 'well', 'Foreign', 'department', 'encourages', 'student', 'participate', 'various', 'National', 'International', 'level', 'competition', 'project', 'exhibition', 'hackathons', 'sport', 'event', 'extra-curricular', 'activity', 'Students', 'award', 'various', 'competition', 'including', 'significant', 'achievement', 'Smart', 'India', 'Hackathon', 'Department', 'also', 'assisting', 'student', 'getting', 'internship', 'niche', 'company', 'pre-placement', 'offer']\n"
     ]
    }
   ],
   "source": [
    "lm=WordNetLemmatizer()\n",
    "lemmatize=[]\n",
    "for word in filtered_tokens:\n",
    "    lemmatize.append(lm.lemmatize(word))\n",
    "print(lemmatize)    "
   ]
  },
  {
   "cell_type": "code",
   "execution_count": 33,
   "id": "d97fbc53",
   "metadata": {},
   "outputs": [],
   "source": [
    "# read 2nd file\n",
    "\n",
    "with open('data2.txt',\"r\",encoding=\"utf=8\") as file:\n",
    "    text2=file.read()"
   ]
  },
  {
   "cell_type": "code",
   "execution_count": 34,
   "id": "58d0f1ec",
   "metadata": {},
   "outputs": [
    {
     "name": "stdout",
     "output_type": "stream",
     "text": [
      "['The', 'department', 'of', 'Information', 'Technology', 'is', 'well', 'known', 'for', 'academic', 'excellence', ',', 'research', 'culture', 'delivered', 'through', 'it', '’', 's', 'undergraduate', 'and', 'postgraduate', 'programs', '.', 'The', 'Bachelor', 'of', 'Engineering', '(', 'B.E', '.', ')', 'Programme', 'in', 'Information', 'Technology', 'started', 'in', 'the', 'academic', 'year', '2001-2002', 'with', 'an', 'intake', 'capacity', 'of', '60', 'and', 'currently', 'running', 'with', 'intake', 'capacity', 'of', '180', 'students', '.', 'The', 'Master', 'of', 'Engineering', '(', 'M.E', '.', ')', 'programme', 'started', 'in', 'academic', 'year', '2011-2012', 'with', 'an', 'intake', 'capacity', 'of', '18', 'students.Department', 'of', 'Information', 'Technology', 'is', 'recognized', 'for', 'imparting', 'core', 'knowledge', ',', 'advanced', 'technological', 'trends', 'and', 'ethics', 'for', 'better', 'employability', '.', 'The', 'Department', 'offers', 'best', 'infrastructure', 'and', 'computing', 'facilities', 'to', 'stakeholders.A', 'team', 'of', '39', 'Teaching', 'and', '08', 'Technical', 'Staff', 'members', 'under', 'the', 'leadership', 'of', 'Dr.', 'Archana', 'S.', 'Ghotkar', 'unanimously', 'harnesses', 'its', 'potential', 'in', 'all', 'aspects', 'to', 'take', 'the', 'department', 'to', 'greater', 'heights', '.']\n"
     ]
    }
   ],
   "source": [
    "# word tokenize\n",
    "words2=nltk.word_tokenize(text2)\n",
    "print(words2)"
   ]
  },
  {
   "cell_type": "code",
   "execution_count": 35,
   "id": "b54a67ab",
   "metadata": {},
   "outputs": [
    {
     "name": "stdout",
     "output_type": "stream",
     "text": [
      "['The department of Information Technology is well known for academic excellence, research culture delivered through it’s undergraduate and postgraduate programs.', 'The Bachelor of Engineering (B.E.)', 'Programme in Information Technology started in the academic year 2001-2002 with an intake capacity of 60 and currently running with intake capacity of 180 students .', 'The Master of Engineering (M.E.)', 'programme started in academic year 2011-2012 with an intake capacity of 18 students.Department of Information Technology is recognized for imparting core knowledge, advanced technological trends and ethics for better employability.', 'The Department offers best infrastructure and computing facilities to stakeholders.A team of 39 Teaching and 08 Technical Staff members under the leadership of Dr. Archana S. Ghotkar unanimously harnesses its potential in all aspects to take the department to greater heights.']\n"
     ]
    }
   ],
   "source": [
    "# sent tokenize\n",
    "sentences2=nltk.sent_tokenize(text=text2)\n",
    "print(sentences2)"
   ]
  },
  {
   "cell_type": "code",
   "execution_count": 36,
   "id": "37a742f0",
   "metadata": {},
   "outputs": [
    {
     "name": "stdout",
     "output_type": "stream",
     "text": [
      "['The', 'department', 'of', 'Information', 'Technology', 'is', 'well', 'known', 'for', 'academic', 'excellence', 'research', 'culture', 'delivered', 'through', 'it', '’', 's', 'undergraduate', 'and', 'postgraduate', 'programs', 'The', 'Bachelor', 'of', 'Engineering', 'B.E', 'Programme', 'in', 'Information', 'Technology', 'started', 'in', 'the', 'academic', 'year', '2001-2002', 'with', 'an', 'intake', 'capacity', 'of', '60', 'and', 'currently', 'running', 'with', 'intake', 'capacity', 'of', '180', 'students', 'The', 'Master', 'of', 'Engineering', 'M.E', 'programme', 'started', 'in', 'academic', 'year', '2011-2012', 'with', 'an', 'intake', 'capacity', 'of', '18', 'students.Department', 'of', 'Information', 'Technology', 'is', 'recognized', 'for', 'imparting', 'core', 'knowledge', 'advanced', 'technological', 'trends', 'and', 'ethics', 'for', 'better', 'employability', 'The', 'Department', 'offers', 'best', 'infrastructure', 'and', 'computing', 'facilities', 'to', 'stakeholders.A', 'team', 'of', '39', 'Teaching', 'and', '08', 'Technical', 'Staff', 'members', 'under', 'the', 'leadership', 'of', 'Dr.', 'Archana', 'S.', 'Ghotkar', 'unanimously', 'harnesses', 'its', 'potential', 'in', 'all', 'aspects', 'to', 'take', 'the', 'department', 'to', 'greater', 'heights']\n"
     ]
    }
   ],
   "source": [
    "# remove puncatuation\n",
    "tokens_new2=[word for word in words2 if word not in string.punctuation]\n",
    "print(tokens_new2)"
   ]
  },
  {
   "cell_type": "code",
   "execution_count": 37,
   "id": "799117a7",
   "metadata": {},
   "outputs": [
    {
     "name": "stdout",
     "output_type": "stream",
     "text": [
      "[('The', 'DT'), ('department', 'NN'), ('of', 'IN'), ('Information', 'NNP'), ('Technology', 'NNP'), ('is', 'VBZ'), ('well', 'RB'), ('known', 'VBN'), ('for', 'IN'), ('academic', 'JJ'), ('excellence', 'NN'), ('research', 'NN'), ('culture', 'NN'), ('delivered', 'VBN'), ('through', 'IN'), ('it', 'PRP'), ('’', 'NNP'), ('s', 'JJ'), ('undergraduate', 'NN'), ('and', 'CC'), ('postgraduate', 'NN'), ('programs', 'NNS'), ('The', 'DT'), ('Bachelor', 'NNP'), ('of', 'IN'), ('Engineering', 'NNP'), ('B.E', 'NNP'), ('Programme', 'NNP'), ('in', 'IN'), ('Information', 'NNP'), ('Technology', 'NNP'), ('started', 'VBD'), ('in', 'IN'), ('the', 'DT'), ('academic', 'JJ'), ('year', 'NN'), ('2001-2002', 'JJ'), ('with', 'IN'), ('an', 'DT'), ('intake', 'JJ'), ('capacity', 'NN'), ('of', 'IN'), ('60', 'CD'), ('and', 'CC'), ('currently', 'RB'), ('running', 'VBG'), ('with', 'IN'), ('intake', 'JJ'), ('capacity', 'NN'), ('of', 'IN'), ('180', 'CD'), ('students', 'NNS'), ('The', 'DT'), ('Master', 'NNP'), ('of', 'IN'), ('Engineering', 'NNP'), ('M.E', 'NNP'), ('programme', 'NN'), ('started', 'VBD'), ('in', 'IN'), ('academic', 'JJ'), ('year', 'NN'), ('2011-2012', 'JJ'), ('with', 'IN'), ('an', 'DT'), ('intake', 'JJ'), ('capacity', 'NN'), ('of', 'IN'), ('18', 'CD'), ('students.Department', 'NN'), ('of', 'IN'), ('Information', 'NNP'), ('Technology', 'NNP'), ('is', 'VBZ'), ('recognized', 'VBN'), ('for', 'IN'), ('imparting', 'VBG'), ('core', 'NN'), ('knowledge', 'NN'), ('advanced', 'VBD'), ('technological', 'JJ'), ('trends', 'NNS'), ('and', 'CC'), ('ethics', 'NNS'), ('for', 'IN'), ('better', 'JJR'), ('employability', 'NN'), ('The', 'DT'), ('Department', 'NNP'), ('offers', 'VBZ'), ('best', 'JJS'), ('infrastructure', 'NN'), ('and', 'CC'), ('computing', 'VBG'), ('facilities', 'NNS'), ('to', 'TO'), ('stakeholders.A', 'VB'), ('team', 'NN'), ('of', 'IN'), ('39', 'CD'), ('Teaching', 'NNP'), ('and', 'CC'), ('08', 'CD'), ('Technical', 'JJ'), ('Staff', 'NNP'), ('members', 'NNS'), ('under', 'IN'), ('the', 'DT'), ('leadership', 'NN'), ('of', 'IN'), ('Dr.', 'NNP'), ('Archana', 'NNP'), ('S.', 'NNP'), ('Ghotkar', 'NNP'), ('unanimously', 'RB'), ('harnesses', 'VBZ'), ('its', 'PRP$'), ('potential', 'JJ'), ('in', 'IN'), ('all', 'DT'), ('aspects', 'NNS'), ('to', 'TO'), ('take', 'VB'), ('the', 'DT'), ('department', 'NN'), ('to', 'TO'), ('greater', 'JJR'), ('heights', 'NNS')]\n"
     ]
    }
   ],
   "source": [
    "# remove part of speech\n",
    "# nltk.download(\"averaged_perceptorn_tagged_eng\")\n",
    "tags2=nltk.pos_tag(tokens_new2)\n",
    "print(tags2)"
   ]
  },
  {
   "cell_type": "code",
   "execution_count": 39,
   "id": "a56ea734",
   "metadata": {},
   "outputs": [
    {
     "name": "stdout",
     "output_type": "stream",
     "text": [
      "['department', 'Information', 'Technology', 'well', 'known', 'academic', 'excellence', 'research', 'culture', 'delivered', '’', 'undergraduate', 'postgraduate', 'programs', 'Bachelor', 'Engineering', 'B.E', 'Programme', 'Information', 'Technology', 'started', 'academic', 'year', '2001-2002', 'intake', 'capacity', '60', 'currently', 'running', 'intake', 'capacity', '180', 'students', 'Master', 'Engineering', 'M.E', 'programme', 'started', 'academic', 'year', '2011-2012', 'intake', 'capacity', '18', 'students.Department', 'Information', 'Technology', 'recognized', 'imparting', 'core', 'knowledge', 'advanced', 'technological', 'trends', 'ethics', 'better', 'employability', 'Department', 'offers', 'best', 'infrastructure', 'computing', 'facilities', 'stakeholders.A', 'team', '39', 'Teaching', '08', 'Technical', 'Staff', 'members', 'leadership', 'Dr.', 'Archana', 'S.', 'Ghotkar', 'unanimously', 'harnesses', 'potential', 'aspects', 'take', 'department', 'greater', 'heights']\n"
     ]
    }
   ],
   "source": [
    "# from nltk.corpus import stopwords\n",
    "# nltk.download('stopwords')\n",
    "\n",
    "stop_word2=set(stopwords.words('english'))\n",
    "filtered_tokens2=[word for word in tokens_new2 if word.lower() not in stop_word2]\n",
    "print(filtered_tokens2)"
   ]
  },
  {
   "cell_type": "code",
   "execution_count": null,
   "id": "ee915e18",
   "metadata": {},
   "outputs": [
    {
     "name": "stdout",
     "output_type": "stream",
     "text": [
      "['depart', 'inform', 'technolog', 'well', 'known', 'academ', 'excel', 'research', 'cultur', 'deliv', '’', 'undergradu', 'postgradu', 'program', 'bachelor', 'engin', 'b.e', 'programm', 'inform', 'technolog', 'start', 'academ', 'year', '2001-2002', 'intak', 'capac', '60', 'current', 'run', 'intak', 'capac', '180', 'student', 'master', 'engin', 'm.e', 'programm', 'start', 'academ', 'year', '2011-2012', 'intak', 'capac', '18', 'students.depart', 'inform', 'technolog', 'recogn', 'impart', 'core', 'knowledg', 'advanc', 'technolog', 'trend', 'ethic', 'better', 'employ', 'depart', 'offer', 'best', 'infrastructur', 'comput', 'facil', 'stakeholders.a', 'team', '39', 'teach', '08', 'technic', 'staff', 'member', 'leadership', 'dr.', 'archana', 's.', 'ghotkar', 'unanim', 'har', 'potenti', 'aspect', 'take', 'depart', 'greater', 'height']\n"
     ]
    }
   ],
   "source": [
    "# stemming\n",
    "\n",
    "# from nltk import PorterStemmer,WordNetLemmatizer\n",
    "# nltk.download('wordnet')\n",
    "ps2=PorterStemmer()\n",
    "stemmed2=[]\n",
    "for word in filtered_tokens2:\n",
    "    stemmed2.append(ps2.stem(word))\n",
    "\n",
    "print(stemmed2)    \n"
   ]
  },
  {
   "cell_type": "code",
   "execution_count": 42,
   "id": "b1bf1a5f",
   "metadata": {},
   "outputs": [
    {
     "name": "stdout",
     "output_type": "stream",
     "text": [
      "['department', 'Information', 'Technology', 'well', 'known', 'academic', 'excellence', 'research', 'culture', 'delivered', '’', 'undergraduate', 'postgraduate', 'program', 'Bachelor', 'Engineering', 'B.E', 'Programme', 'Information', 'Technology', 'started', 'academic', 'year', '2001-2002', 'intake', 'capacity', '60', 'currently', 'running', 'intake', 'capacity', '180', 'student', 'Master', 'Engineering', 'M.E', 'programme', 'started', 'academic', 'year', '2011-2012', 'intake', 'capacity', '18', 'students.Department', 'Information', 'Technology', 'recognized', 'imparting', 'core', 'knowledge', 'advanced', 'technological', 'trend', 'ethic', 'better', 'employability', 'Department', 'offer', 'best', 'infrastructure', 'computing', 'facility', 'stakeholders.A', 'team', '39', 'Teaching', '08', 'Technical', 'Staff', 'member', 'leadership', 'Dr.', 'Archana', 'S.', 'Ghotkar', 'unanimously', 'harness', 'potential', 'aspect', 'take', 'department', 'greater', 'height']\n"
     ]
    }
   ],
   "source": [
    "# lemmetization\n",
    "\n",
    "lm2=WordNetLemmatizer()\n",
    "lemmatize2=[]\n",
    "for word in filtered_tokens2:\n",
    "    lemmatize2.append(lm2.lemmatize(word))\n",
    "print(lemmatize2)    \n"
   ]
  },
  {
   "cell_type": "code",
   "execution_count": 43,
   "id": "76fa5247",
   "metadata": {},
   "outputs": [],
   "source": [
    "d1=' '.join(lemmatize)\n",
    "d2=' '.join(lemmatize2)"
   ]
  },
  {
   "cell_type": "code",
   "execution_count": null,
   "id": "5dfd7195",
   "metadata": {},
   "outputs": [
    {
     "name": "stdout",
     "output_type": "stream",
     "text": [
      "Document 1:\n",
      "  10: 0.0559\n",
      "  12: 0.0559\n",
      "  13: 0.0559\n",
      "  1983: 0.1117\n",
      "  2000: 0.0559\n",
      "  2012: 0.0397\n",
      "  2013: 0.0559\n",
      "  2020: 0.1117\n",
      "  2022: 0.0559\n",
      "  2024: 0.0559\n",
      "  23: 0.0559\n",
      "  24: 0.1676\n",
      "  240: 0.0559\n",
      "  25: 0.1117\n",
      "  49: 0.0559\n",
      "  52: 0.0559\n",
      "  60: 0.0795\n",
      "  achievement: 0.0559\n",
      "  activity: 0.0559\n",
      "  addition: 0.0559\n",
      "  affiliated: 0.0559\n",
      "  aicte: 0.0559\n",
      "  also: 0.0559\n",
      "  among: 0.0559\n",
      "  approval: 0.0559\n",
      "  aspect: 0.0397\n",
      "  aspirant: 0.0559\n",
      "  assisting: 0.0559\n",
      "  average: 0.0559\n",
      "  award: 0.0559\n",
      "  centre: 0.0559\n",
      "  company: 0.0559\n",
      "  competition: 0.1117\n",
      "  computer: 0.2235\n",
      "  conduct: 0.0559\n",
      "  converted: 0.0559\n",
      "  current: 0.0559\n",
      "  curricular: 0.0559\n",
      "  data: 0.1676\n",
      "  department: 0.3180\n",
      "  division: 0.1117\n",
      "  dr: 0.0397\n",
      "  education: 0.1676\n",
      "  encourages: 0.0559\n",
      "  engineering: 0.1590\n",
      "  established: 0.0559\n",
      "  event: 0.0559\n",
      "  exhibition: 0.0559\n",
      "  extra: 0.0559\n",
      "  financed: 0.0559\n",
      "  foreign: 0.0559\n",
      "  geetanjali: 0.0559\n",
      "  getting: 0.0559\n",
      "  greater: 0.0397\n",
      "  hackathon: 0.0559\n",
      "  hackathons: 0.0559\n",
      "  harness: 0.0397\n",
      "  height: 0.0397\n",
      "  higher: 0.0559\n",
      "  including: 0.0559\n",
      "  increased: 0.0559\n",
      "  india: 0.0559\n",
      "  indian: 0.0559\n",
      "  institute: 0.0559\n",
      "  intake: 0.2782\n",
      "  intent: 0.0559\n",
      "  international: 0.0559\n",
      "  internship: 0.0559\n",
      "  kale: 0.0559\n",
      "  leadership: 0.0397\n",
      "  level: 0.0559\n",
      "  lpa: 0.0559\n",
      "  maharashtra: 0.0559\n",
      "  member: 0.0397\n",
      "  mncs: 0.0559\n",
      "  national: 0.0559\n",
      "  niche: 0.0559\n",
      "  offer: 0.0397\n",
      "  package: 0.0559\n",
      "  participate: 0.0559\n",
      "  pg: 0.2793\n",
      "  ph: 0.1117\n",
      "  phule: 0.0559\n",
      "  pioneer: 0.0559\n",
      "  placed: 0.0559\n",
      "  placement: 0.0559\n",
      "  postgraduate: 0.0397\n",
      "  potential: 0.0397\n",
      "  pre: 0.0559\n",
      "  professional: 0.0559\n",
      "  program: 0.1987\n",
      "  project: 0.0559\n",
      "  provide: 0.0559\n",
      "  providing: 0.0559\n",
      "  pune: 0.0559\n",
      "  pursuing: 0.0559\n",
      "  quality: 0.0559\n",
      "  received: 0.0559\n",
      "  regularly: 0.0559\n",
      "  research: 0.0397\n",
      "  savitribai: 0.0559\n",
      "  science: 0.1676\n",
      "  second: 0.1117\n",
      "  self: 0.0559\n",
      "  significant: 0.0559\n",
      "  since: 0.0559\n",
      "  smart: 0.0559\n",
      "  sport: 0.0559\n",
      "  sppu: 0.0559\n",
      "  staff: 0.0397\n",
      "  started: 0.0397\n",
      "  student: 0.2782\n",
      "  students: 0.0795\n",
      "  subsequently: 0.0559\n",
      "  take: 0.0397\n",
      "  teaching: 0.0397\n",
      "  team: 0.0397\n",
      "  technical: 0.0397\n",
      "  top: 0.1117\n",
      "  ug: 0.1117\n",
      "  unanimously: 0.0397\n",
      "  undergraduate: 0.0397\n",
      "  university: 0.1117\n",
      "  various: 0.1117\n",
      "  well: 0.0397\n",
      "  working: 0.0559\n",
      "  young: 0.0559\n",
      "Document 2:\n",
      "  08: 0.0977\n",
      "  18: 0.0977\n",
      "  180: 0.0977\n",
      "  2001: 0.0977\n",
      "  2002: 0.0977\n",
      "  2011: 0.0977\n",
      "  2012: 0.0695\n",
      "  39: 0.0977\n",
      "  60: 0.0695\n",
      "  academic: 0.2930\n",
      "  advanced: 0.0977\n",
      "  archana: 0.0977\n",
      "  aspect: 0.0695\n",
      "  bachelor: 0.0977\n",
      "  best: 0.0977\n",
      "  better: 0.0977\n",
      "  capacity: 0.2930\n",
      "  computing: 0.0977\n",
      "  core: 0.0977\n",
      "  culture: 0.0977\n",
      "  currently: 0.0977\n",
      "  delivered: 0.0977\n",
      "  department: 0.2779\n",
      "  dr: 0.0695\n",
      "  employability: 0.0977\n",
      "  engineering: 0.1390\n",
      "  ethic: 0.0977\n",
      "  excellence: 0.0977\n",
      "  facility: 0.0977\n",
      "  ghotkar: 0.0977\n",
      "  greater: 0.0695\n",
      "  harness: 0.0695\n",
      "  height: 0.0695\n",
      "  imparting: 0.0977\n",
      "  information: 0.2930\n",
      "  infrastructure: 0.0977\n",
      "  intake: 0.2085\n",
      "  knowledge: 0.0977\n",
      "  known: 0.0977\n",
      "  leadership: 0.0695\n",
      "  master: 0.0977\n",
      "  member: 0.0695\n",
      "  offer: 0.0695\n",
      "  postgraduate: 0.0695\n",
      "  potential: 0.0695\n",
      "  program: 0.0695\n",
      "  programme: 0.1953\n",
      "  recognized: 0.0977\n",
      "  research: 0.0695\n",
      "  running: 0.0977\n",
      "  staff: 0.0695\n",
      "  stakeholders: 0.0977\n",
      "  started: 0.1390\n",
      "  student: 0.0695\n",
      "  students: 0.0695\n",
      "  take: 0.0695\n",
      "  teaching: 0.0695\n",
      "  team: 0.0695\n",
      "  technical: 0.0695\n",
      "  technological: 0.0977\n",
      "  technology: 0.2930\n",
      "  trend: 0.0977\n",
      "  unanimously: 0.0695\n",
      "  undergraduate: 0.0695\n",
      "  well: 0.0695\n",
      "  year: 0.1953\n"
     ]
    }
   ],
   "source": [
    "#get TFIDF score\n",
    "from sklearn.feature_extraction.text import TfidfVectorizer\n",
    "\n",
    "# Create TF-IDF Vectorizer\n",
    "vectorizer = TfidfVectorizer()\n",
    "\n",
    "# Transform documents into TF-IDF matrix\n",
    "tfidf_matrix = vectorizer.fit_transform([d1, d2])\n",
    "\n",
    "# Get feature names (words)\n",
    "feature_names = vectorizer.get_feature_names_out()\n",
    "\n",
    "\n",
    "\n",
    "# Convert matrix to array and print values\n",
    "for i, doc in enumerate(tfidf_matrix.toarray()): \n",
    "    print(f\"Document {i+1}:\")\n",
    "    for word, score in zip(feature_names, doc):\n",
    "        if score > 0:\n",
    "            print(f\"  {word}: {score:.4f}\")"
   ]
  }
 ],
 "metadata": {
  "kernelspec": {
   "display_name": "Python 3",
   "language": "python",
   "name": "python3"
  },
  "language_info": {
   "codemirror_mode": {
    "name": "ipython",
    "version": 3
   },
   "file_extension": ".py",
   "mimetype": "text/x-python",
   "name": "python",
   "nbconvert_exporter": "python",
   "pygments_lexer": "ipython3",
   "version": "3.12.0"
  }
 },
 "nbformat": 4,
 "nbformat_minor": 5
}
